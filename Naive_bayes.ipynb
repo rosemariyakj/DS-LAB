{
  "nbformat": 4,
  "nbformat_minor": 0,
  "metadata": {
    "colab": {
      "name": "Naive_bayes.ipynb",
      "provenance": []
    },
    "kernelspec": {
      "name": "python3",
      "display_name": "Python 3"
    },
    "language_info": {
      "name": "python"
    }
  },
  "cells": [
    {
      "cell_type": "code",
      "execution_count": null,
      "metadata": {
        "id": "3bSwlIEaaQ6D"
      },
      "outputs": [],
      "source": [
        "# Assigning features and label variables\n",
        "weather=['Sunny','Sunny','Overcast','Rainy','Rainy','Rainy','Overcast','Sunny','Sunny',\n",
        "'Rainy','Sunny','Overcast','Overcast','Rainy']\n",
        "temp=['Hot','Hot','Hot','Mild','Cool','Cool','Cool','Mild','Cool','Mild','Mild','Mild','Hot','Mild']\n",
        "\n",
        "play=['No','No','Yes','Yes','Yes','No','Yes','No','Yes','Yes','Yes','Yes','Yes','No']"
      ]
    },
    {
      "cell_type": "code",
      "source": [
        "from sklearn import preprocessing\n",
        "#creating labelEncoder\n",
        "le = preprocessing.LabelEncoder()\n",
        "# Converting string labels into numbers.\n",
        "weather_encoded=le.fit_transform(weather)\n",
        "print(weather_encoded)"
      ],
      "metadata": {
        "colab": {
          "base_uri": "https://localhost:8080/"
        },
        "id": "yVcdCFdvas7k",
        "outputId": "d357208b-9487-4a13-b085-835a19cabb32"
      },
      "execution_count": null,
      "outputs": [
        {
          "output_type": "stream",
          "name": "stdout",
          "text": [
            "[2 2 0 1 1 1 0 2 2 1 2 0 0 1]\n"
          ]
        }
      ]
    },
    {
      "cell_type": "code",
      "source": [
        "temp_encoded=le.fit_transform(temp)\n",
        "label=le.fit_transform(play)\n",
        "print(\"Temp:\",temp_encoded)\n",
        "print(\"Play:\",label)"
      ],
      "metadata": {
        "colab": {
          "base_uri": "https://localhost:8080/"
        },
        "id": "NsLnIXkRa2AK",
        "outputId": "2dacb815-7513-4c84-bec9-f889a4a61cc5"
      },
      "execution_count": null,
      "outputs": [
        {
          "output_type": "stream",
          "name": "stdout",
          "text": [
            "Temp: [1 1 1 2 0 0 0 2 0 2 2 2 1 2]\n",
            "Play: [0 0 1 1 1 0 1 0 1 1 1 1 1 0]\n"
          ]
        }
      ]
    },
    {
      "cell_type": "code",
      "source": [
        "features=zip(weather_encoded,temp_encoded)\n",
        "features = list(features)\n",
        "features"
      ],
      "metadata": {
        "colab": {
          "base_uri": "https://localhost:8080/"
        },
        "id": "LrudKJuQbEar",
        "outputId": "6c39c000-c4e4-44d8-c045-e1f98c9e9c85"
      },
      "execution_count": null,
      "outputs": [
        {
          "output_type": "execute_result",
          "data": {
            "text/plain": [
              "[(2, 1),\n",
              " (2, 1),\n",
              " (0, 1),\n",
              " (1, 2),\n",
              " (1, 0),\n",
              " (1, 0),\n",
              " (0, 0),\n",
              " (2, 2),\n",
              " (2, 0),\n",
              " (1, 2),\n",
              " (2, 2),\n",
              " (0, 2),\n",
              " (0, 1),\n",
              " (1, 2)]"
            ]
          },
          "metadata": {},
          "execution_count": 5
        }
      ]
    },
    {
      "cell_type": "code",
      "source": [
        "from sklearn.naive_bayes import GaussianNB\n",
        "#Create a Gaussian Classifier\n",
        "model = GaussianNB()\n",
        "# Train the model using the training sets\n",
        "model.fit(features,label)\n",
        "#Predict Output\n",
        "predicted= model.predict([[0,2]]) # 0:Overcast, 2:Mild\n",
        "print(\"Predicted Value:\", predicted)"
      ],
      "metadata": {
        "colab": {
          "base_uri": "https://localhost:8080/"
        },
        "id": "tfwgebqQbLEM",
        "outputId": "2d0f4c0e-8274-4e86-d2c7-9f206e373877"
      },
      "execution_count": null,
      "outputs": [
        {
          "output_type": "stream",
          "name": "stdout",
          "text": [
            "Predicted Value: [1]\n"
          ]
        }
      ]
    },
    {
      "cell_type": "code",
      "source": [
        "from sklearn.model_selection import train_test_split\n",
        "from sklearn.datasets import load_iris\n",
        "# Loading data\n",
        "irisData = load_iris()\n",
        "print(\"Features: \", irisData.feature_names)\n",
        "\n",
        "# print the label type of wine(class_0, class_1, class_2)\n",
        "print(\"Labels: \", irisData.target_names)\n",
        "# Create feature and target arrays\n",
        "X = irisData.data\n",
        "y = irisData.target\n",
        "# Split into training and test set\n",
        "X_train, X_test, y_train, y_test = train_test_split(X, y, test_size = 0.2, random_state=42)"
      ],
      "metadata": {
        "colab": {
          "base_uri": "https://localhost:8080/"
        },
        "id": "zT6_2OTAcDK3",
        "outputId": "8d1ab888-d5c5-4cca-eb90-202bfbcedc34"
      },
      "execution_count": null,
      "outputs": [
        {
          "output_type": "stream",
          "name": "stdout",
          "text": [
            "Features:  ['sepal length (cm)', 'sepal width (cm)', 'petal length (cm)', 'petal width (cm)']\n",
            "Labels:  ['setosa' 'versicolor' 'virginica']\n"
          ]
        }
      ]
    },
    {
      "cell_type": "code",
      "source": [
        "from sklearn.naive_bayes import GaussianNB\n",
        "#Create a Gaussian Classifier\n",
        "gnb = GaussianNB()\n",
        "#Train the model using the training sets\n",
        "gnb.fit(X_train, y_train)\n",
        "#Predict the response for test dataset\n",
        "print(gnb.predict([[7.7,2.6,6.9,2.3]]))"
      ],
      "metadata": {
        "colab": {
          "base_uri": "https://localhost:8080/"
        },
        "id": "w8h9OfB5cWEb",
        "outputId": "9e5f967f-2ed8-4443-a598-13ab297657ef"
      },
      "execution_count": null,
      "outputs": [
        {
          "output_type": "stream",
          "name": "stdout",
          "text": [
            "[2]\n"
          ]
        }
      ]
    },
    {
      "cell_type": "code",
      "source": [
        "y_pred1 = gnb.predict(X_test)\n",
        "print(y_pred1)"
      ],
      "metadata": {
        "colab": {
          "base_uri": "https://localhost:8080/"
        },
        "id": "VSQJqVmrcpad",
        "outputId": "3af1cd65-6063-4b4c-eb02-ae786844b67c"
      },
      "execution_count": null,
      "outputs": [
        {
          "output_type": "stream",
          "name": "stdout",
          "text": [
            "[1 0 2 1 1 0 1 2 1 1 2 0 0 0 0 1 2 1 1 2 0 2 0 2 2 2 2 2 0 0]\n"
          ]
        }
      ]
    },
    {
      "cell_type": "code",
      "source": [
        "from sklearn.metrics import accuracy_score\n",
        "ac1 = accuracy_score(y_test,y_pred1)\n",
        "print(ac1)"
      ],
      "metadata": {
        "colab": {
          "base_uri": "https://localhost:8080/"
        },
        "id": "OiXZP5Q1cruY",
        "outputId": "ee821be3-bdcd-4adf-f534-4e63a7b4ecb1"
      },
      "execution_count": null,
      "outputs": [
        {
          "output_type": "stream",
          "name": "stdout",
          "text": [
            "1.0\n"
          ]
        }
      ]
    }
  ]
}